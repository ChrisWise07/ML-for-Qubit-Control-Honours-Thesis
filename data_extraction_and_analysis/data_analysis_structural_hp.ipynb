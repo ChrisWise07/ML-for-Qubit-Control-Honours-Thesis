{
 "cells": [
  {
   "cell_type": "code",
   "execution_count": 1,
   "metadata": {},
   "outputs": [],
   "source": [
    "import pandas as pd\n",
    "from scipy.stats import f_oneway\n",
    "from statsmodels.stats.multicomp import pairwise_tukeyhsd"
   ]
  },
  {
   "cell_type": "code",
   "execution_count": 2,
   "metadata": {},
   "outputs": [],
   "source": [
    "file_name = \"strucutral_hp_results.xlsx\""
   ]
  },
  {
   "cell_type": "code",
   "execution_count": 3,
   "metadata": {},
   "outputs": [],
   "source": [
    "data = pd.read_excel(file_name, index_col=0)\n",
    "data = data.round(4)"
   ]
  },
  {
   "cell_type": "code",
   "execution_count": 4,
   "metadata": {},
   "outputs": [
    {
     "data": {
      "text/html": [
       "<div>\n",
       "<style scoped>\n",
       "    .dataframe tbody tr th:only-of-type {\n",
       "        vertical-align: middle;\n",
       "    }\n",
       "\n",
       "    .dataframe tbody tr th {\n",
       "        vertical-align: top;\n",
       "    }\n",
       "\n",
       "    .dataframe thead th {\n",
       "        text-align: right;\n",
       "    }\n",
       "</style>\n",
       "<table border=\"1\" class=\"dataframe\">\n",
       "  <thead>\n",
       "    <tr style=\"text-align: right;\">\n",
       "      <th></th>\n",
       "      <th>Loss Function</th>\n",
       "      <th>Network</th>\n",
       "      <th>Input Type</th>\n",
       "      <th>Num of params to predict</th>\n",
       "      <th>Uses Activation</th>\n",
       "      <th>Sum of Metrics</th>\n",
       "      <th>Average of Metrics</th>\n",
       "      <th>Expectation MSE</th>\n",
       "    </tr>\n",
       "  </thead>\n",
       "  <tbody>\n",
       "    <tr>\n",
       "      <th>12</th>\n",
       "      <td>combined_loss</td>\n",
       "      <td>encoder_with_MLP</td>\n",
       "      <td>pulse_parameters</td>\n",
       "      <td>9</td>\n",
       "      <td>True</td>\n",
       "      <td>2.4580</td>\n",
       "      <td>0.8193</td>\n",
       "      <td>0.0223</td>\n",
       "    </tr>\n",
       "    <tr>\n",
       "      <th>35</th>\n",
       "      <td>expectation_loss</td>\n",
       "      <td>encoder_with_MLP</td>\n",
       "      <td>pulse_parameters</td>\n",
       "      <td>9</td>\n",
       "      <td>True</td>\n",
       "      <td>2.4571</td>\n",
       "      <td>0.8190</td>\n",
       "      <td>0.0229</td>\n",
       "    </tr>\n",
       "    <tr>\n",
       "      <th>43</th>\n",
       "      <td>trace_distance_loss</td>\n",
       "      <td>encoder_with_MLP</td>\n",
       "      <td>pulse_parameters</td>\n",
       "      <td>9</td>\n",
       "      <td>True</td>\n",
       "      <td>2.4547</td>\n",
       "      <td>0.8182</td>\n",
       "      <td>0.0222</td>\n",
       "    </tr>\n",
       "    <tr>\n",
       "      <th>85</th>\n",
       "      <td>trace_distance_loss</td>\n",
       "      <td>simple_ANN</td>\n",
       "      <td>time_series</td>\n",
       "      <td>9</td>\n",
       "      <td>True</td>\n",
       "      <td>2.4342</td>\n",
       "      <td>0.8114</td>\n",
       "      <td>0.0206</td>\n",
       "    </tr>\n",
       "    <tr>\n",
       "      <th>73</th>\n",
       "      <td>parameter_loss</td>\n",
       "      <td>rnn_with_MLP</td>\n",
       "      <td>pulse_parameters</td>\n",
       "      <td>9</td>\n",
       "      <td>True</td>\n",
       "      <td>2.4330</td>\n",
       "      <td>0.8110</td>\n",
       "      <td>0.0303</td>\n",
       "    </tr>\n",
       "  </tbody>\n",
       "</table>\n",
       "</div>"
      ],
      "text/plain": [
       "          Loss Function           Network        Input Type  \\\n",
       "12        combined_loss  encoder_with_MLP  pulse_parameters   \n",
       "35     expectation_loss  encoder_with_MLP  pulse_parameters   \n",
       "43  trace_distance_loss  encoder_with_MLP  pulse_parameters   \n",
       "85  trace_distance_loss        simple_ANN       time_series   \n",
       "73       parameter_loss      rnn_with_MLP  pulse_parameters   \n",
       "\n",
       "    Num of params to predict  Uses Activation  Sum of Metrics  \\\n",
       "12                         9             True          2.4580   \n",
       "35                         9             True          2.4571   \n",
       "43                         9             True          2.4547   \n",
       "85                         9             True          2.4342   \n",
       "73                         9             True          2.4330   \n",
       "\n",
       "    Average of Metrics  Expectation MSE  \n",
       "12              0.8193           0.0223  \n",
       "35              0.8190           0.0229  \n",
       "43              0.8182           0.0222  \n",
       "85              0.8114           0.0206  \n",
       "73              0.8110           0.0303  "
      ]
     },
     "execution_count": 4,
     "metadata": {},
     "output_type": "execute_result"
    }
   ],
   "source": [
    "data.sort_values(by=\"Average of Metrics\", inplace=True, ascending=False)\n",
    "data.head(5)"
   ]
  },
  {
   "cell_type": "code",
   "execution_count": 5,
   "metadata": {},
   "outputs": [
    {
     "name": "stdout",
     "output_type": "stream",
     "text": [
      "Average of Metrics Mean: 0.7214 +/- 0.0678\n"
     ]
    }
   ],
   "source": [
    "mean_metric = round(data[\"Average of Metrics\"].mean(), 4)\n",
    "std_metric = round(data[\"Average of Metrics\"].std(), 4)\n",
    "print(f\"Average of Metrics Mean: {mean_metric} +/- {std_metric}\")"
   ]
  },
  {
   "cell_type": "code",
   "execution_count": 6,
   "metadata": {},
   "outputs": [
    {
     "name": "stdout",
     "output_type": "stream",
     "text": [
      "Expectation MSE Mean: 0.0774 +/- 0.1274\n"
     ]
    }
   ],
   "source": [
    "mean_expectation_mse = round(data[\"Expectation MSE\"].mean(), 4)\n",
    "std_expectation_mse = round(data[\"Expectation MSE\"].std(), 4)\n",
    "print(f\"Expectation MSE Mean: {mean_expectation_mse} +/- {std_expectation_mse}\")"
   ]
  },
  {
   "cell_type": "code",
   "execution_count": 7,
   "metadata": {},
   "outputs": [],
   "source": [
    "def compute_mean_std_table(data: pd.DataFrame, column: str) -> pd.DataFrame:\n",
    "    return round(\n",
    "        data.groupby(column)\n",
    "        .agg(\n",
    "            {\n",
    "                \"Average of Metrics\": [\"mean\", \"std\"],\n",
    "                \"Expectation MSE\": [\"mean\", \"std\"],\n",
    "            }\n",
    "        )\n",
    "        .rename_axis(column),\n",
    "        4,\n",
    "    )\n",
    "\n",
    "\n",
    "def compute_f_statistic_p_value(\n",
    "    data: pd.DataFrame, column: str\n",
    ") -> pd.DataFrame:\n",
    "    grouped_data = data.groupby(column)\n",
    "\n",
    "    group_values = [\n",
    "        group[\"Average of Metrics\"].values for _, group in grouped_data\n",
    "    ]\n",
    "\n",
    "    f_statistic, p_value = f_oneway(*group_values)\n",
    "\n",
    "    return round(f_statistic, 4), round(p_value, 4)"
   ]
  },
  {
   "cell_type": "code",
   "execution_count": 8,
   "metadata": {},
   "outputs": [
    {
     "data": {
      "text/html": [
       "<div>\n",
       "<style scoped>\n",
       "    .dataframe tbody tr th:only-of-type {\n",
       "        vertical-align: middle;\n",
       "    }\n",
       "\n",
       "    .dataframe tbody tr th {\n",
       "        vertical-align: top;\n",
       "    }\n",
       "\n",
       "    .dataframe thead tr th {\n",
       "        text-align: left;\n",
       "    }\n",
       "\n",
       "    .dataframe thead tr:last-of-type th {\n",
       "        text-align: right;\n",
       "    }\n",
       "</style>\n",
       "<table border=\"1\" class=\"dataframe\">\n",
       "  <thead>\n",
       "    <tr>\n",
       "      <th></th>\n",
       "      <th colspan=\"2\" halign=\"left\">Average of Metrics</th>\n",
       "      <th colspan=\"2\" halign=\"left\">Expectation MSE</th>\n",
       "    </tr>\n",
       "    <tr>\n",
       "      <th></th>\n",
       "      <th>mean</th>\n",
       "      <th>std</th>\n",
       "      <th>mean</th>\n",
       "      <th>std</th>\n",
       "    </tr>\n",
       "    <tr>\n",
       "      <th>Loss Function</th>\n",
       "      <th></th>\n",
       "      <th></th>\n",
       "      <th></th>\n",
       "      <th></th>\n",
       "    </tr>\n",
       "  </thead>\n",
       "  <tbody>\n",
       "    <tr>\n",
       "      <th>combined_loss</th>\n",
       "      <td>0.7328</td>\n",
       "      <td>0.0567</td>\n",
       "      <td>0.0213</td>\n",
       "      <td>0.0003</td>\n",
       "    </tr>\n",
       "    <tr>\n",
       "      <th>expectation_loss</th>\n",
       "      <td>0.7361</td>\n",
       "      <td>0.0519</td>\n",
       "      <td>0.0212</td>\n",
       "      <td>0.0006</td>\n",
       "    </tr>\n",
       "    <tr>\n",
       "      <th>parameter_loss</th>\n",
       "      <td>0.6772</td>\n",
       "      <td>0.0860</td>\n",
       "      <td>0.2459</td>\n",
       "      <td>0.1661</td>\n",
       "    </tr>\n",
       "    <tr>\n",
       "      <th>trace_distance_loss</th>\n",
       "      <td>0.7394</td>\n",
       "      <td>0.0543</td>\n",
       "      <td>0.0213</td>\n",
       "      <td>0.0004</td>\n",
       "    </tr>\n",
       "  </tbody>\n",
       "</table>\n",
       "</div>"
      ],
      "text/plain": [
       "                    Average of Metrics         Expectation MSE        \n",
       "                                  mean     std            mean     std\n",
       "Loss Function                                                         \n",
       "combined_loss                   0.7328  0.0567          0.0213  0.0003\n",
       "expectation_loss                0.7361  0.0519          0.0212  0.0006\n",
       "parameter_loss                  0.6772  0.0860          0.2459  0.1661\n",
       "trace_distance_loss             0.7394  0.0543          0.0213  0.0004"
      ]
     },
     "metadata": {},
     "output_type": "display_data"
    },
    {
     "name": "stdout",
     "output_type": "stream",
     "text": [
      "F-statistic: 5.1513, P-value: 0.0025\n",
      "            Multiple Comparison of Means - Tukey HSD, FWER=0.05            \n",
      "===========================================================================\n",
      "     group1             group2       meandiff p-adj   lower   upper  reject\n",
      "---------------------------------------------------------------------------\n",
      "   combined_loss    expectation_loss   0.0033 0.9979 -0.0448  0.0515  False\n",
      "   combined_loss      parameter_loss  -0.0555 0.0172 -0.1037 -0.0073   True\n",
      "   combined_loss trace_distance_loss   0.0066  0.984 -0.0415  0.0548  False\n",
      "expectation_loss      parameter_loss  -0.0588 0.0101  -0.107 -0.0107   True\n",
      "expectation_loss trace_distance_loss   0.0033  0.998 -0.0449  0.0514  False\n",
      "  parameter_loss trace_distance_loss   0.0621 0.0059   0.014  0.1103   True\n",
      "---------------------------------------------------------------------------\n"
     ]
    }
   ],
   "source": [
    "display(compute_mean_std_table(data, \"Loss Function\"))\n",
    "\n",
    "f_statistic, p_value = compute_f_statistic_p_value(data, \"Loss Function\")\n",
    "\n",
    "print(f\"F-statistic: {f_statistic}, P-value: {p_value}\") \n",
    "\n",
    "\n",
    "\n",
    "posthoc = pairwise_tukeyhsd(data['Average of Metrics'], data['Loss Function'], alpha=0.05)\n",
    "\n",
    "print(posthoc)\n"
   ]
  },
  {
   "cell_type": "code",
   "execution_count": 9,
   "metadata": {},
   "outputs": [
    {
     "data": {
      "text/html": [
       "<div>\n",
       "<style scoped>\n",
       "    .dataframe tbody tr th:only-of-type {\n",
       "        vertical-align: middle;\n",
       "    }\n",
       "\n",
       "    .dataframe tbody tr th {\n",
       "        vertical-align: top;\n",
       "    }\n",
       "\n",
       "    .dataframe thead tr th {\n",
       "        text-align: left;\n",
       "    }\n",
       "\n",
       "    .dataframe thead tr:last-of-type th {\n",
       "        text-align: right;\n",
       "    }\n",
       "</style>\n",
       "<table border=\"1\" class=\"dataframe\">\n",
       "  <thead>\n",
       "    <tr>\n",
       "      <th></th>\n",
       "      <th colspan=\"2\" halign=\"left\">Average of Metrics</th>\n",
       "      <th colspan=\"2\" halign=\"left\">Expectation MSE</th>\n",
       "    </tr>\n",
       "    <tr>\n",
       "      <th></th>\n",
       "      <th>mean</th>\n",
       "      <th>std</th>\n",
       "      <th>mean</th>\n",
       "      <th>std</th>\n",
       "    </tr>\n",
       "    <tr>\n",
       "      <th>Network</th>\n",
       "      <th></th>\n",
       "      <th></th>\n",
       "      <th></th>\n",
       "      <th></th>\n",
       "    </tr>\n",
       "  </thead>\n",
       "  <tbody>\n",
       "    <tr>\n",
       "      <th>encoder_with_MLP</th>\n",
       "      <td>0.7210</td>\n",
       "      <td>0.0681</td>\n",
       "      <td>0.0714</td>\n",
       "      <td>0.1154</td>\n",
       "    </tr>\n",
       "    <tr>\n",
       "      <th>rnn_with_MLP</th>\n",
       "      <td>0.7259</td>\n",
       "      <td>0.0647</td>\n",
       "      <td>0.0711</td>\n",
       "      <td>0.1150</td>\n",
       "    </tr>\n",
       "    <tr>\n",
       "      <th>simple_ANN</th>\n",
       "      <td>0.7172</td>\n",
       "      <td>0.0723</td>\n",
       "      <td>0.0898</td>\n",
       "      <td>0.1516</td>\n",
       "    </tr>\n",
       "  </tbody>\n",
       "</table>\n",
       "</div>"
      ],
      "text/plain": [
       "                 Average of Metrics         Expectation MSE        \n",
       "                               mean     std            mean     std\n",
       "Network                                                            \n",
       "encoder_with_MLP             0.7210  0.0681          0.0714  0.1154\n",
       "rnn_with_MLP                 0.7259  0.0647          0.0711  0.1150\n",
       "simple_ANN                   0.7172  0.0723          0.0898  0.1516"
      ]
     },
     "metadata": {},
     "output_type": "display_data"
    },
    {
     "name": "stdout",
     "output_type": "stream",
     "text": [
      "F-statistic: 0.1282, P-value: 0.8798\n"
     ]
    }
   ],
   "source": [
    "display(compute_mean_std_table(data, \"Network\"))\n",
    "\n",
    "f_statistic, p_value = compute_f_statistic_p_value(data, \"Network\")\n",
    "\n",
    "print(f\"F-statistic: {f_statistic}, P-value: {p_value}\") \n"
   ]
  },
  {
   "cell_type": "code",
   "execution_count": 10,
   "metadata": {},
   "outputs": [
    {
     "data": {
      "text/html": [
       "<div>\n",
       "<style scoped>\n",
       "    .dataframe tbody tr th:only-of-type {\n",
       "        vertical-align: middle;\n",
       "    }\n",
       "\n",
       "    .dataframe tbody tr th {\n",
       "        vertical-align: top;\n",
       "    }\n",
       "\n",
       "    .dataframe thead tr th {\n",
       "        text-align: left;\n",
       "    }\n",
       "\n",
       "    .dataframe thead tr:last-of-type th {\n",
       "        text-align: right;\n",
       "    }\n",
       "</style>\n",
       "<table border=\"1\" class=\"dataframe\">\n",
       "  <thead>\n",
       "    <tr>\n",
       "      <th></th>\n",
       "      <th colspan=\"2\" halign=\"left\">Average of Metrics</th>\n",
       "      <th colspan=\"2\" halign=\"left\">Expectation MSE</th>\n",
       "    </tr>\n",
       "    <tr>\n",
       "      <th></th>\n",
       "      <th>mean</th>\n",
       "      <th>std</th>\n",
       "      <th>mean</th>\n",
       "      <th>std</th>\n",
       "    </tr>\n",
       "    <tr>\n",
       "      <th>Input Type</th>\n",
       "      <th></th>\n",
       "      <th></th>\n",
       "      <th></th>\n",
       "      <th></th>\n",
       "    </tr>\n",
       "  </thead>\n",
       "  <tbody>\n",
       "    <tr>\n",
       "      <th>pulse_parameters</th>\n",
       "      <td>0.7255</td>\n",
       "      <td>0.0637</td>\n",
       "      <td>0.0809</td>\n",
       "      <td>0.1233</td>\n",
       "    </tr>\n",
       "    <tr>\n",
       "      <th>time_series</th>\n",
       "      <td>0.7172</td>\n",
       "      <td>0.0721</td>\n",
       "      <td>0.0739</td>\n",
       "      <td>0.1327</td>\n",
       "    </tr>\n",
       "  </tbody>\n",
       "</table>\n",
       "</div>"
      ],
      "text/plain": [
       "                 Average of Metrics         Expectation MSE        \n",
       "                               mean     std            mean     std\n",
       "Input Type                                                         \n",
       "pulse_parameters             0.7255  0.0637          0.0809  0.1233\n",
       "time_series                  0.7172  0.0721          0.0739  0.1327"
      ]
     },
     "metadata": {},
     "output_type": "display_data"
    },
    {
     "name": "stdout",
     "output_type": "stream",
     "text": [
      "F-statistic: 0.3568, P-value: 0.5517\n"
     ]
    }
   ],
   "source": [
    "display(compute_mean_std_table(data, \"Input Type\"))\n",
    "\n",
    "f_statistic, p_value = compute_f_statistic_p_value(data, \"Input Type\")\n",
    "\n",
    "print(f\"F-statistic: {f_statistic}, P-value: {p_value}\") "
   ]
  },
  {
   "cell_type": "code",
   "execution_count": 11,
   "metadata": {},
   "outputs": [
    {
     "data": {
      "text/html": [
       "<div>\n",
       "<style scoped>\n",
       "    .dataframe tbody tr th:only-of-type {\n",
       "        vertical-align: middle;\n",
       "    }\n",
       "\n",
       "    .dataframe tbody tr th {\n",
       "        vertical-align: top;\n",
       "    }\n",
       "\n",
       "    .dataframe thead tr th {\n",
       "        text-align: left;\n",
       "    }\n",
       "\n",
       "    .dataframe thead tr:last-of-type th {\n",
       "        text-align: right;\n",
       "    }\n",
       "</style>\n",
       "<table border=\"1\" class=\"dataframe\">\n",
       "  <thead>\n",
       "    <tr>\n",
       "      <th></th>\n",
       "      <th colspan=\"2\" halign=\"left\">Average of Metrics</th>\n",
       "      <th colspan=\"2\" halign=\"left\">Expectation MSE</th>\n",
       "    </tr>\n",
       "    <tr>\n",
       "      <th></th>\n",
       "      <th>mean</th>\n",
       "      <th>std</th>\n",
       "      <th>mean</th>\n",
       "      <th>std</th>\n",
       "    </tr>\n",
       "    <tr>\n",
       "      <th>Num of params to predict</th>\n",
       "      <th></th>\n",
       "      <th></th>\n",
       "      <th></th>\n",
       "      <th></th>\n",
       "    </tr>\n",
       "  </thead>\n",
       "  <tbody>\n",
       "    <tr>\n",
       "      <th>9</th>\n",
       "      <td>0.7591</td>\n",
       "      <td>0.0529</td>\n",
       "      <td>0.0679</td>\n",
       "      <td>0.1105</td>\n",
       "    </tr>\n",
       "    <tr>\n",
       "      <th>12</th>\n",
       "      <td>0.6837</td>\n",
       "      <td>0.0600</td>\n",
       "      <td>0.0870</td>\n",
       "      <td>0.1430</td>\n",
       "    </tr>\n",
       "  </tbody>\n",
       "</table>\n",
       "</div>"
      ],
      "text/plain": [
       "                         Average of Metrics         Expectation MSE        \n",
       "                                       mean     std            mean     std\n",
       "Num of params to predict                                                   \n",
       "9                                    0.7591  0.0529          0.0679  0.1105\n",
       "12                                   0.6837  0.0600          0.0870  0.1430"
      ]
     },
     "metadata": {},
     "output_type": "display_data"
    },
    {
     "name": "stdout",
     "output_type": "stream",
     "text": [
      "F-statistic: 42.682, P-value: 0.0\n"
     ]
    }
   ],
   "source": [
    "display(compute_mean_std_table(data, \"Num of params to predict\"))\n",
    "\n",
    "f_statistic, p_value = compute_f_statistic_p_value(data, \"Num of params to predict\")\n",
    "\n",
    "print(f\"F-statistic: {f_statistic}, P-value: {p_value}\") "
   ]
  },
  {
   "cell_type": "code",
   "execution_count": 12,
   "metadata": {},
   "outputs": [
    {
     "data": {
      "text/html": [
       "<div>\n",
       "<style scoped>\n",
       "    .dataframe tbody tr th:only-of-type {\n",
       "        vertical-align: middle;\n",
       "    }\n",
       "\n",
       "    .dataframe tbody tr th {\n",
       "        vertical-align: top;\n",
       "    }\n",
       "\n",
       "    .dataframe thead tr th {\n",
       "        text-align: left;\n",
       "    }\n",
       "\n",
       "    .dataframe thead tr:last-of-type th {\n",
       "        text-align: right;\n",
       "    }\n",
       "</style>\n",
       "<table border=\"1\" class=\"dataframe\">\n",
       "  <thead>\n",
       "    <tr>\n",
       "      <th></th>\n",
       "      <th colspan=\"2\" halign=\"left\">Average of Metrics</th>\n",
       "      <th colspan=\"2\" halign=\"left\">Expectation MSE</th>\n",
       "    </tr>\n",
       "    <tr>\n",
       "      <th></th>\n",
       "      <th>mean</th>\n",
       "      <th>std</th>\n",
       "      <th>mean</th>\n",
       "      <th>std</th>\n",
       "    </tr>\n",
       "    <tr>\n",
       "      <th>Uses Activation</th>\n",
       "      <th></th>\n",
       "      <th></th>\n",
       "      <th></th>\n",
       "      <th></th>\n",
       "    </tr>\n",
       "  </thead>\n",
       "  <tbody>\n",
       "    <tr>\n",
       "      <th>False</th>\n",
       "      <td>0.6821</td>\n",
       "      <td>0.0574</td>\n",
       "      <td>0.1051</td>\n",
       "      <td>0.1527</td>\n",
       "    </tr>\n",
       "    <tr>\n",
       "      <th>True</th>\n",
       "      <td>0.7607</td>\n",
       "      <td>0.0534</td>\n",
       "      <td>0.0498</td>\n",
       "      <td>0.0891</td>\n",
       "    </tr>\n",
       "  </tbody>\n",
       "</table>\n",
       "</div>"
      ],
      "text/plain": [
       "                Average of Metrics         Expectation MSE        \n",
       "                              mean     std            mean     std\n",
       "Uses Activation                                                   \n",
       "False                       0.6821  0.0574          0.1051  0.1527\n",
       "True                        0.7607  0.0534          0.0498  0.0891"
      ]
     },
     "metadata": {},
     "output_type": "display_data"
    },
    {
     "name": "stdout",
     "output_type": "stream",
     "text": [
      "F-statistic: 48.2831, P-value: 0.0\n"
     ]
    }
   ],
   "source": [
    "display(compute_mean_std_table(data, \"Uses Activation\"))\n",
    "\n",
    "f_statistic, p_value = compute_f_statistic_p_value(data, \"Uses Activation\")\n",
    "\n",
    "print(f\"F-statistic: {f_statistic}, P-value: {p_value}\") "
   ]
  }
 ],
 "metadata": {
  "kernelspec": {
   "display_name": "venv",
   "language": "python",
   "name": "python3"
  },
  "language_info": {
   "codemirror_mode": {
    "name": "ipython",
    "version": 3
   },
   "file_extension": ".py",
   "mimetype": "text/x-python",
   "name": "python",
   "nbconvert_exporter": "python",
   "pygments_lexer": "ipython3",
   "version": "3.10.12"
  },
  "orig_nbformat": 4
 },
 "nbformat": 4,
 "nbformat_minor": 2
}
