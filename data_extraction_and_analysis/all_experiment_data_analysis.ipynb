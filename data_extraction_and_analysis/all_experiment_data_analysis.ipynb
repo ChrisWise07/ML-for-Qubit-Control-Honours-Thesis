{
 "cells": [
  {
   "cell_type": "code",
   "execution_count": 1,
   "metadata": {},
   "outputs": [],
   "source": [
    "import numpy as np\n",
    "import numpy as np\n",
    "import matplotlib as mpl\n",
    "import matplotlib.pyplot as plt\n",
    "from mpl_toolkits.mplot3d import Axes3D\n",
    "import pandas as pd\n",
    "import torch\n",
    "import pandas as pd\n",
    "import wandb\n"
   ]
  },
  {
   "cell_type": "code",
   "execution_count": 2,
   "metadata": {},
   "outputs": [],
   "source": [
    "\n",
    "api = wandb.Api()\n",
    "\n",
    "runs = api.runs(\n",
    "    \"chriswise/Honours-Research-Phase-2-Structural-Hyperparameters\"\n",
    ")\n",
    "\n",
    "runs2 = api.runs(\n",
    "    \"chriswise/Honours-Project-Phase-2-LR-WD-Results\"\n",
    ")\n",
    "\n",
    "runs3 = api.runs(\n",
    "    \"chriswise/Honours-Research-Phase-2-Test-Set\"\n",
    ")\n",
    "\n",
    "all_runs = [runs, runs2, runs3]\n",
    "\n",
    "data = []\n",
    "\n",
    "for runs in all_runs:\n",
    "    for run in runs:\n",
    "        summary = run.summary._json_dict\n",
    "\n",
    "        summary_mapped = {\n",
    "            \"Parameter Score\": summary.get(\"Parameter Score\"),\n",
    "            \"VO Fidelity\": summary.get(\"VO Fidelity\"),\n",
    "            \"Expectation Score\": summary.get(\"Expectation Score\"),\n",
    "            \"Expectation MSE\": summary.get(\"Expectations MSE\"),\n",
    "            \"Average of Metrics\": summary.get(\"Average of Metrics\"),\n",
    "        }\n",
    "\n",
    "        data.append(summary_mapped)\n",
    "\n",
    "df = pd.DataFrame(data)\n",
    "\n",
    "df.to_excel(\"combined_score_data.xlsx\")\n"
   ]
  },
  {
   "cell_type": "code",
   "execution_count": 3,
   "metadata": {},
   "outputs": [],
   "source": [
    "data = pd.read_excel(\"combined_score_data.xlsx\")"
   ]
  },
  {
   "cell_type": "code",
   "execution_count": 4,
   "metadata": {},
   "outputs": [],
   "source": [
    "data = data.drop(columns=['Unnamed: 0'])"
   ]
  },
  {
   "cell_type": "code",
   "execution_count": 5,
   "metadata": {},
   "outputs": [
    {
     "data": {
      "text/html": [
       "<div>\n",
       "<style scoped>\n",
       "    .dataframe tbody tr th:only-of-type {\n",
       "        vertical-align: middle;\n",
       "    }\n",
       "\n",
       "    .dataframe tbody tr th {\n",
       "        vertical-align: top;\n",
       "    }\n",
       "\n",
       "    .dataframe thead th {\n",
       "        text-align: right;\n",
       "    }\n",
       "</style>\n",
       "<table border=\"1\" class=\"dataframe\">\n",
       "  <thead>\n",
       "    <tr style=\"text-align: right;\">\n",
       "      <th></th>\n",
       "      <th>Parameter Score</th>\n",
       "      <th>VO Fidelity</th>\n",
       "      <th>Expectation Score</th>\n",
       "      <th>Expectation MSE</th>\n",
       "      <th>Average of Metrics</th>\n",
       "    </tr>\n",
       "  </thead>\n",
       "  <tbody>\n",
       "    <tr>\n",
       "      <th>Parameter Score</th>\n",
       "      <td>1.0000</td>\n",
       "      <td>0.1660</td>\n",
       "      <td>0.2737</td>\n",
       "      <td>-0.2463</td>\n",
       "      <td>0.7275</td>\n",
       "    </tr>\n",
       "    <tr>\n",
       "      <th>VO Fidelity</th>\n",
       "      <td>0.1660</td>\n",
       "      <td>1.0000</td>\n",
       "      <td>0.6812</td>\n",
       "      <td>-0.2501</td>\n",
       "      <td>0.7265</td>\n",
       "    </tr>\n",
       "    <tr>\n",
       "      <th>Expectation Score</th>\n",
       "      <td>0.2737</td>\n",
       "      <td>0.6812</td>\n",
       "      <td>1.0000</td>\n",
       "      <td>-0.8780</td>\n",
       "      <td>0.8133</td>\n",
       "    </tr>\n",
       "    <tr>\n",
       "      <th>Expectation MSE</th>\n",
       "      <td>-0.2463</td>\n",
       "      <td>-0.2501</td>\n",
       "      <td>-0.8780</td>\n",
       "      <td>1.0000</td>\n",
       "      <td>-0.5981</td>\n",
       "    </tr>\n",
       "    <tr>\n",
       "      <th>Average of Metrics</th>\n",
       "      <td>0.7275</td>\n",
       "      <td>0.7265</td>\n",
       "      <td>0.8133</td>\n",
       "      <td>-0.5981</td>\n",
       "      <td>1.0000</td>\n",
       "    </tr>\n",
       "  </tbody>\n",
       "</table>\n",
       "</div>"
      ],
      "text/plain": [
       "                    Parameter Score  VO Fidelity  Expectation Score  \\\n",
       "Parameter Score              1.0000       0.1660             0.2737   \n",
       "VO Fidelity                  0.1660       1.0000             0.6812   \n",
       "Expectation Score            0.2737       0.6812             1.0000   \n",
       "Expectation MSE             -0.2463      -0.2501            -0.8780   \n",
       "Average of Metrics           0.7275       0.7265             0.8133   \n",
       "\n",
       "                    Expectation MSE  Average of Metrics  \n",
       "Parameter Score             -0.2463              0.7275  \n",
       "VO Fidelity                 -0.2501              0.7265  \n",
       "Expectation Score           -0.8780              0.8133  \n",
       "Expectation MSE              1.0000             -0.5981  \n",
       "Average of Metrics          -0.5981              1.0000  "
      ]
     },
     "execution_count": 5,
     "metadata": {},
     "output_type": "execute_result"
    }
   ],
   "source": [
    "correlations = data.corr()\n",
    "\n",
    "round(correlations, 4)"
   ]
  }
 ],
 "metadata": {
  "kernelspec": {
   "display_name": "venv",
   "language": "python",
   "name": "python3"
  },
  "language_info": {
   "codemirror_mode": {
    "name": "ipython",
    "version": 3
   },
   "file_extension": ".py",
   "mimetype": "text/x-python",
   "name": "python",
   "nbconvert_exporter": "python",
   "pygments_lexer": "ipython3",
   "version": "3.10.12"
  },
  "orig_nbformat": 4
 },
 "nbformat": 4,
 "nbformat_minor": 2
}
