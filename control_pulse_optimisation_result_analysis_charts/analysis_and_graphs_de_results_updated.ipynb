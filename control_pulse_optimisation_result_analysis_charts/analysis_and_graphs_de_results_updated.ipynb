{
 "cells": [
  {
   "cell_type": "code",
   "execution_count": 2,
   "metadata": {},
   "outputs": [],
   "source": [
    "import pandas as pd\n",
    "from scipy.stats import f_oneway\n",
    "from statsmodels.stats.multicomp import pairwise_tukeyhsd\n",
    "import matplotlib as mpl\n",
    "import matplotlib.pyplot as plt\n",
    "import pandas as pd\n",
    "from matplotlib.ticker import ScalarFormatter\n",
    "import numpy as np"
   ]
  },
  {
   "cell_type": "code",
   "execution_count": 3,
   "metadata": {},
   "outputs": [],
   "source": [
    "def compute_mean_std_table(data: pd.DataFrame, column: str) -> pd.DataFrame:\n",
    "    return round(\n",
    "        data.groupby(column)\n",
    "        .agg(\n",
    "            {\n",
    "                \"Min Fidelity\": [\"mean\", \"std\"],\n",
    "            }\n",
    "        )\n",
    "        .rename_axis(column),\n",
    "        4,\n",
    "    )\n",
    "\n",
    "\n",
    "def compute_f_statistic_p_value(\n",
    "    data: pd.DataFrame, column: str\n",
    ") -> pd.DataFrame:\n",
    "    grouped_data = data.groupby(column)\n",
    "\n",
    "    group_values = [group[\"Min Fidelity\"].values for _, group in grouped_data]\n",
    "\n",
    "    f_statistic, p_value = f_oneway(*group_values)\n",
    "\n",
    "    return round(f_statistic, 4), round(p_value, 4)"
   ]
  },
  {
   "cell_type": "code",
   "execution_count": 4,
   "metadata": {},
   "outputs": [],
   "source": [
    "excel_file_name = './new_hyperparameter_tuning_results_de.csv'"
   ]
  },
  {
   "cell_type": "code",
   "execution_count": 5,
   "metadata": {},
   "outputs": [],
   "source": [
    "data = pd.read_csv(excel_file_name)\n",
    "data = data.round(4)"
   ]
  },
  {
   "cell_type": "code",
   "execution_count": 6,
   "metadata": {},
   "outputs": [
    {
     "data": {
      "text/html": [
       "<div>\n",
       "<style scoped>\n",
       "    .dataframe tbody tr th:only-of-type {\n",
       "        vertical-align: middle;\n",
       "    }\n",
       "\n",
       "    .dataframe tbody tr th {\n",
       "        vertical-align: top;\n",
       "    }\n",
       "\n",
       "    .dataframe thead th {\n",
       "        text-align: right;\n",
       "    }\n",
       "</style>\n",
       "<table border=\"1\" class=\"dataframe\">\n",
       "  <thead>\n",
       "    <tr style=\"text-align: right;\">\n",
       "      <th></th>\n",
       "      <th>Sequence Length</th>\n",
       "      <th>Population Size</th>\n",
       "      <th>Num Generations</th>\n",
       "      <th>Crossover Rate</th>\n",
       "      <th>Differential Weight</th>\n",
       "      <th>Min Fidelity</th>\n",
       "      <th>I</th>\n",
       "      <th>X</th>\n",
       "      <th>Y</th>\n",
       "      <th>Z</th>\n",
       "      <th>H</th>\n",
       "      <th>R_X_PI/4</th>\n",
       "    </tr>\n",
       "  </thead>\n",
       "  <tbody>\n",
       "    <tr>\n",
       "      <th>51</th>\n",
       "      <td>32</td>\n",
       "      <td>20</td>\n",
       "      <td>25</td>\n",
       "      <td>1.0</td>\n",
       "      <td>0.5</td>\n",
       "      <td>0.9995</td>\n",
       "      <td>0.9996</td>\n",
       "      <td>0.9995</td>\n",
       "      <td>0.9996</td>\n",
       "      <td>0.9997</td>\n",
       "      <td>0.9996</td>\n",
       "      <td>0.9997</td>\n",
       "    </tr>\n",
       "    <tr>\n",
       "      <th>48</th>\n",
       "      <td>32</td>\n",
       "      <td>20</td>\n",
       "      <td>25</td>\n",
       "      <td>0.8</td>\n",
       "      <td>0.5</td>\n",
       "      <td>0.9993</td>\n",
       "      <td>0.9993</td>\n",
       "      <td>0.9996</td>\n",
       "      <td>0.9994</td>\n",
       "      <td>0.9996</td>\n",
       "      <td>0.9996</td>\n",
       "      <td>0.9996</td>\n",
       "    </tr>\n",
       "    <tr>\n",
       "      <th>45</th>\n",
       "      <td>32</td>\n",
       "      <td>20</td>\n",
       "      <td>25</td>\n",
       "      <td>0.6</td>\n",
       "      <td>0.5</td>\n",
       "      <td>0.9991</td>\n",
       "      <td>0.9994</td>\n",
       "      <td>0.9991</td>\n",
       "      <td>0.9996</td>\n",
       "      <td>0.9994</td>\n",
       "      <td>0.9995</td>\n",
       "      <td>0.9994</td>\n",
       "    </tr>\n",
       "  </tbody>\n",
       "</table>\n",
       "</div>"
      ],
      "text/plain": [
       "    Sequence Length  Population Size  Num Generations  Crossover Rate  \\\n",
       "51               32               20               25             1.0   \n",
       "48               32               20               25             0.8   \n",
       "45               32               20               25             0.6   \n",
       "\n",
       "    Differential Weight  Min Fidelity       I       X       Y       Z       H  \\\n",
       "51                  0.5        0.9995  0.9996  0.9995  0.9996  0.9997  0.9996   \n",
       "48                  0.5        0.9993  0.9993  0.9996  0.9994  0.9996  0.9996   \n",
       "45                  0.5        0.9991  0.9994  0.9991  0.9996  0.9994  0.9995   \n",
       "\n",
       "    R_X_PI/4  \n",
       "51    0.9997  \n",
       "48    0.9996  \n",
       "45    0.9994  "
      ]
     },
     "execution_count": 6,
     "metadata": {},
     "output_type": "execute_result"
    }
   ],
   "source": [
    "data.sort_values(by=\"Min Fidelity\", inplace=True, ascending=False)\n",
    "data.head(3)"
   ]
  },
  {
   "cell_type": "code",
   "execution_count": 7,
   "metadata": {},
   "outputs": [
    {
     "name": "stdout",
     "output_type": "stream",
     "text": [
      "Mean min fidelity: 0.4113 +- 0.3969\n"
     ]
    }
   ],
   "source": [
    "mean_min_fidelity = round(data[\"Min Fidelity\"].mean(), 4)\n",
    "std_min_fidelity = round(data[\"Min Fidelity\"].std(), 4)\n",
    "print(f\"Mean min fidelity: {mean_min_fidelity} +- {std_min_fidelity}\")"
   ]
  },
  {
   "cell_type": "code",
   "execution_count": 8,
   "metadata": {},
   "outputs": [
    {
     "data": {
      "text/html": [
       "<div>\n",
       "<style scoped>\n",
       "    .dataframe tbody tr th:only-of-type {\n",
       "        vertical-align: middle;\n",
       "    }\n",
       "\n",
       "    .dataframe tbody tr th {\n",
       "        vertical-align: top;\n",
       "    }\n",
       "\n",
       "    .dataframe thead tr th {\n",
       "        text-align: left;\n",
       "    }\n",
       "\n",
       "    .dataframe thead tr:last-of-type th {\n",
       "        text-align: right;\n",
       "    }\n",
       "</style>\n",
       "<table border=\"1\" class=\"dataframe\">\n",
       "  <thead>\n",
       "    <tr>\n",
       "      <th></th>\n",
       "      <th colspan=\"2\" halign=\"left\">Min Fidelity</th>\n",
       "    </tr>\n",
       "    <tr>\n",
       "      <th></th>\n",
       "      <th>mean</th>\n",
       "      <th>std</th>\n",
       "    </tr>\n",
       "    <tr>\n",
       "      <th>Sequence Length</th>\n",
       "      <th></th>\n",
       "      <th></th>\n",
       "    </tr>\n",
       "  </thead>\n",
       "  <tbody>\n",
       "    <tr>\n",
       "      <th>1</th>\n",
       "      <td>0.0001</td>\n",
       "      <td>0.0000</td>\n",
       "    </tr>\n",
       "    <tr>\n",
       "      <th>2</th>\n",
       "      <td>0.0005</td>\n",
       "      <td>0.0000</td>\n",
       "    </tr>\n",
       "    <tr>\n",
       "      <th>4</th>\n",
       "      <td>0.0047</td>\n",
       "      <td>0.0043</td>\n",
       "    </tr>\n",
       "    <tr>\n",
       "      <th>8</th>\n",
       "      <td>0.0319</td>\n",
       "      <td>0.0315</td>\n",
       "    </tr>\n",
       "    <tr>\n",
       "      <th>16</th>\n",
       "      <td>0.6720</td>\n",
       "      <td>0.0207</td>\n",
       "    </tr>\n",
       "    <tr>\n",
       "      <th>32</th>\n",
       "      <td>0.9977</td>\n",
       "      <td>0.0017</td>\n",
       "    </tr>\n",
       "    <tr>\n",
       "      <th>64</th>\n",
       "      <td>0.9843</td>\n",
       "      <td>0.0034</td>\n",
       "    </tr>\n",
       "    <tr>\n",
       "      <th>128</th>\n",
       "      <td>0.7938</td>\n",
       "      <td>0.0120</td>\n",
       "    </tr>\n",
       "    <tr>\n",
       "      <th>256</th>\n",
       "      <td>0.3596</td>\n",
       "      <td>0.0123</td>\n",
       "    </tr>\n",
       "    <tr>\n",
       "      <th>512</th>\n",
       "      <td>0.2689</td>\n",
       "      <td>0.0081</td>\n",
       "    </tr>\n",
       "  </tbody>\n",
       "</table>\n",
       "</div>"
      ],
      "text/plain": [
       "                Min Fidelity        \n",
       "                        mean     std\n",
       "Sequence Length                     \n",
       "1                     0.0001  0.0000\n",
       "2                     0.0005  0.0000\n",
       "4                     0.0047  0.0043\n",
       "8                     0.0319  0.0315\n",
       "16                    0.6720  0.0207\n",
       "32                    0.9977  0.0017\n",
       "64                    0.9843  0.0034\n",
       "128                   0.7938  0.0120\n",
       "256                   0.3596  0.0123\n",
       "512                   0.2689  0.0081"
      ]
     },
     "metadata": {},
     "output_type": "display_data"
    },
    {
     "name": "stdout",
     "output_type": "stream",
     "text": [
      "F-statistic: 8568.942, P-value: 0.0\n"
     ]
    },
    {
     "data": {
      "text/html": [
       "<div>\n",
       "<style scoped>\n",
       "    .dataframe tbody tr th:only-of-type {\n",
       "        vertical-align: middle;\n",
       "    }\n",
       "\n",
       "    .dataframe tbody tr th {\n",
       "        vertical-align: top;\n",
       "    }\n",
       "\n",
       "    .dataframe thead tr th {\n",
       "        text-align: left;\n",
       "    }\n",
       "\n",
       "    .dataframe thead tr:last-of-type th {\n",
       "        text-align: right;\n",
       "    }\n",
       "</style>\n",
       "<table border=\"1\" class=\"dataframe\">\n",
       "  <thead>\n",
       "    <tr>\n",
       "      <th></th>\n",
       "      <th colspan=\"2\" halign=\"left\">Min Fidelity</th>\n",
       "    </tr>\n",
       "    <tr>\n",
       "      <th></th>\n",
       "      <th>mean</th>\n",
       "      <th>std</th>\n",
       "    </tr>\n",
       "    <tr>\n",
       "      <th>Crossover Rate</th>\n",
       "      <th></th>\n",
       "      <th></th>\n",
       "    </tr>\n",
       "  </thead>\n",
       "  <tbody>\n",
       "    <tr>\n",
       "      <th>0.6</th>\n",
       "      <td>0.4111</td>\n",
       "      <td>0.3999</td>\n",
       "    </tr>\n",
       "    <tr>\n",
       "      <th>0.8</th>\n",
       "      <td>0.4111</td>\n",
       "      <td>0.4003</td>\n",
       "    </tr>\n",
       "    <tr>\n",
       "      <th>1.0</th>\n",
       "      <td>0.4119</td>\n",
       "      <td>0.4042</td>\n",
       "    </tr>\n",
       "  </tbody>\n",
       "</table>\n",
       "</div>"
      ],
      "text/plain": [
       "               Min Fidelity        \n",
       "                       mean     std\n",
       "Crossover Rate                     \n",
       "0.6                  0.4111  0.3999\n",
       "0.8                  0.4111  0.4003\n",
       "1.0                  0.4119  0.4042"
      ]
     },
     "metadata": {},
     "output_type": "display_data"
    },
    {
     "name": "stdout",
     "output_type": "stream",
     "text": [
      "F-statistic: 0.0, P-value: 1.0\n"
     ]
    },
    {
     "data": {
      "text/html": [
       "<div>\n",
       "<style scoped>\n",
       "    .dataframe tbody tr th:only-of-type {\n",
       "        vertical-align: middle;\n",
       "    }\n",
       "\n",
       "    .dataframe tbody tr th {\n",
       "        vertical-align: top;\n",
       "    }\n",
       "\n",
       "    .dataframe thead tr th {\n",
       "        text-align: left;\n",
       "    }\n",
       "\n",
       "    .dataframe thead tr:last-of-type th {\n",
       "        text-align: right;\n",
       "    }\n",
       "</style>\n",
       "<table border=\"1\" class=\"dataframe\">\n",
       "  <thead>\n",
       "    <tr>\n",
       "      <th></th>\n",
       "      <th colspan=\"2\" halign=\"left\">Min Fidelity</th>\n",
       "    </tr>\n",
       "    <tr>\n",
       "      <th></th>\n",
       "      <th>mean</th>\n",
       "      <th>std</th>\n",
       "    </tr>\n",
       "    <tr>\n",
       "      <th>Differential Weight</th>\n",
       "      <th></th>\n",
       "      <th></th>\n",
       "    </tr>\n",
       "  </thead>\n",
       "  <tbody>\n",
       "    <tr>\n",
       "      <th>0.5</th>\n",
       "      <td>0.4153</td>\n",
       "      <td>0.3982</td>\n",
       "    </tr>\n",
       "    <tr>\n",
       "      <th>1.0</th>\n",
       "      <td>0.4102</td>\n",
       "      <td>0.4029</td>\n",
       "    </tr>\n",
       "    <tr>\n",
       "      <th>2.0</th>\n",
       "      <td>0.4085</td>\n",
       "      <td>0.4033</td>\n",
       "    </tr>\n",
       "  </tbody>\n",
       "</table>\n",
       "</div>"
      ],
      "text/plain": [
       "                    Min Fidelity        \n",
       "                            mean     std\n",
       "Differential Weight                     \n",
       "0.5                       0.4153  0.3982\n",
       "1.0                       0.4102  0.4029\n",
       "2.0                       0.4085  0.4033"
      ]
     },
     "metadata": {},
     "output_type": "display_data"
    },
    {
     "name": "stdout",
     "output_type": "stream",
     "text": [
      "F-statistic: 0.0023, P-value: 0.9977\n"
     ]
    }
   ],
   "source": [
    "hyperparameters = [\n",
    "    \"Sequence Length\",\n",
    "    \"Crossover Rate\",\n",
    "    \"Differential Weight\",\n",
    "]\n",
    "\n",
    "\n",
    "for hp in hyperparameters:\n",
    "    display(compute_mean_std_table(data, hp))\n",
    "    f_statistic, p_value = compute_f_statistic_p_value(data, hp)\n",
    "    print(f\"F-statistic: {f_statistic}, P-value: {p_value}\")"
   ]
  },
  {
   "cell_type": "code",
   "execution_count": 9,
   "metadata": {},
   "outputs": [
    {
     "name": "stdout",
     "output_type": "stream",
     "text": [
      "Sequence Length: 1, Highest Min Fidelity: 0.0001\n",
      "Sequence Length: 2, Highest Min Fidelity: 0.0006\n",
      "Sequence Length: 4, Highest Min Fidelity: 0.0112\n",
      "Sequence Length: 8, Highest Min Fidelity: 0.0891\n",
      "Sequence Length: 16, Highest Min Fidelity: 0.7056\n",
      "Sequence Length: 32, Highest Min Fidelity: 0.9995\n",
      "Sequence Length: 64, Highest Min Fidelity: 0.988\n",
      "Sequence Length: 128, Highest Min Fidelity: 0.8045\n",
      "Sequence Length: 256, Highest Min Fidelity: 0.3824\n",
      "Sequence Length: 512, Highest Min Fidelity: 0.2775\n"
     ]
    }
   ],
   "source": [
    "for sequence_length in [1, 2, 4, 8, 16, 32, 64, 128, 256, 512]:\n",
    "    reduced_data = data[data[\"Sequence Length\"] == sequence_length]\n",
    "    highest_min_fidelity = reduced_data[\"Min Fidelity\"].max()\n",
    "    print(\n",
    "        f\"Sequence Length: {sequence_length}, Highest Min Fidelity: {highest_min_fidelity}\"\n",
    "    )"
   ]
  },
  {
   "cell_type": "code",
   "execution_count": 10,
   "metadata": {},
   "outputs": [],
   "source": [
    "use_pdf = False\n",
    "use_png = not use_pdf\n",
    "if use_pdf:\n",
    "    mpl.use(\"pdf\")\n",
    "file_extension = \"pdf\" if use_pdf else \"png\""
   ]
  },
  {
   "cell_type": "code",
   "execution_count": 11,
   "metadata": {},
   "outputs": [],
   "source": [
    "report_path= \"/home/chriswise/github/Honours-Research-ML-for-QC/Report/sections/grad_free_results/figures/\"\n",
    "windows_path = \"/mnt/c/Users/ChrisWiseLocal/OneDrive/Documents/Uni/UNSW/2023/Honours Research/Seminars/report_photos/\""
   ]
  },
  {
   "cell_type": "code",
   "execution_count": 12,
   "metadata": {},
   "outputs": [],
   "source": [
    "path_to_save = report_path if use_pdf else windows_path"
   ]
  },
  {
   "cell_type": "code",
   "execution_count": 13,
   "metadata": {},
   "outputs": [],
   "source": [
    "width = 3.487\n",
    "height = width / 1.618\n",
    "alpha_value = 0.75\n",
    "title_font_size = 9\n",
    "plt.rc(\"font\", family=\"serif\", serif=\"cm10\")\n",
    "plt.rc(\"text\", usetex=True)\n",
    "plt.rc(\"axes\", labelsize=title_font_size - 2)"
   ]
  },
  {
   "cell_type": "code",
   "execution_count": 14,
   "metadata": {},
   "outputs": [],
   "source": [
    "mean_min_fidelity = data.groupby(\"Sequence Length\")[\"Min Fidelity\"].mean()"
   ]
  },
  {
   "cell_type": "code",
   "execution_count": 15,
   "metadata": {},
   "outputs": [
    {
     "name": "stdout",
     "output_type": "stream",
     "text": [
      "[1, 2, 4, 8, 16, 32, 64, 128, 256, 512]\n"
     ]
    }
   ],
   "source": [
    "print(sorted(data[\"Sequence Length\"].unique()))"
   ]
  },
  {
   "cell_type": "code",
   "execution_count": 16,
   "metadata": {},
   "outputs": [],
   "source": [
    "default_blue = plt.rcParams['axes.prop_cycle'].by_key()['color'][0]"
   ]
  },
  {
   "cell_type": "code",
   "execution_count": 23,
   "metadata": {},
   "outputs": [],
   "source": [
    "excel_file_name = './qubit_control_minimum_fidelity_results.xlsx'\n",
    "\n",
    "qubit_control_data = pd.read_excel(excel_file_name)"
   ]
  },
  {
   "cell_type": "code",
   "execution_count": 25,
   "metadata": {},
   "outputs": [
    {
     "data": {
      "text/plain": [
       "0    0.0001\n",
       "1    0.0006\n",
       "2    0.0022\n",
       "3    0.0089\n",
       "4    0.0320\n",
       "5    0.0747\n",
       "6    0.1347\n",
       "7    0.1583\n",
       "8    0.2429\n",
       "9    0.2475\n",
       "Name: Random, dtype: float64"
      ]
     },
     "metadata": {},
     "output_type": "display_data"
    }
   ],
   "source": [
    "display(qubit_control_data['Random'])"
   ]
  },
  {
   "cell_type": "code",
   "execution_count": 31,
   "metadata": {},
   "outputs": [
    {
     "data": {
      "image/png": "[encoded data removed]",
      "text/plain": [
       "<Figure size 348.7x215.513 with 1 Axes>"
      ]
     },
     "metadata": {},
     "output_type": "display_data"
    }
   ],
   "source": [
    "width = 3.487\n",
    "height = width / 1.618\n",
    "alpha_value = 0.85\n",
    "title_font_size = 9\n",
    "\n",
    "fig, ax = plt.subplots(figsize=(width, height))\n",
    "\n",
    "plt.rc(\"font\", family=\"serif\", serif=\"Times\")\n",
    "plt.rc(\"text\", usetex=True)\n",
    "plt.rc(\"axes\", labelsize=title_font_size - 2)\n",
    "\n",
    "plt.suptitle(\n",
    "    \"Minimum Fidelity for Different Sequence Lengths\",\n",
    "    fontsize=title_font_size,\n",
    ")\n",
    "\n",
    "control_pulse_types = [\"Random\", 'Noiseless', 'Diff. Evo.']\n",
    "\n",
    "sequence_lengths = [1, 2, 4, 8, 16, 32, 64, 128, 256, 512]\n",
    "\n",
    "for index, pulse_type in enumerate(control_pulse_types):\n",
    "    filtered_data = qubit_control_data[pulse_type ]\n",
    "\n",
    "    colour = plt.rcParams[\"axes.prop_cycle\"].by_key()[\"color\"][index]\n",
    "\n",
    "    ax.plot(\n",
    "        sequence_lengths,\n",
    "        filtered_data,\n",
    "        color=colour,\n",
    "        alpha=alpha_value,\n",
    "        label=f\"{pulse_type}\",\n",
    "    )\n",
    "\n",
    "ax.set_xscale(\"log\", base=2)\n",
    "ax.legend(fontsize=title_font_size - 4)\n",
    "\n",
    "plt.xticks(sequence_lengths, fontsize=title_font_size - 2)\n",
    "plt.yticks(fontsize=title_font_size - 2)\n",
    "\n",
    "plt.xlabel(\"Sequence Length\", fontsize=title_font_size - 2)\n",
    "plt.ylabel(\n",
    "    \"Minimum Fidelity\", fontsize=title_font_size - 2\n",
    ")\n",
    "plt.ylim(-0.1, 1.1)\n",
    "\n",
    "formatter = ScalarFormatter()\n",
    "formatter.set_scientific(False)\n",
    "ax.xaxis.set_major_formatter(formatter)\n",
    "\n",
    "\n",
    "# fig.tight_layout()\n",
    "plt.savefig(\n",
    "    path_to_save + f\"qubit_control_min_fidelity.{file_extension}\",\n",
    "    dpi=500,\n",
    "    # bbox_inches=\"tight\",\n",
    ")"
   ]
  }
 ],
 "metadata": {
  "kernelspec": {
   "display_name": "venv",
   "language": "python",
   "name": "python3"
  },
  "language_info": {
   "codemirror_mode": {
    "name": "ipython",
    "version": 3
   },
   "file_extension": ".py",
   "mimetype": "text/x-python",
   "name": "python",
   "nbconvert_exporter": "python",
   "pygments_lexer": "ipython3",
   "version": "3.10.12"
  }
 },
 "nbformat": 4,
 "nbformat_minor": 2
}
